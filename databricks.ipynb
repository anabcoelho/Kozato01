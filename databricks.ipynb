{
  "cells": [
    {
      "cell_type": "markdown",
      "metadata": {
        "id": "ALrtrab-gfIs"
      },
      "source": [
        "IMPORT das bibiliotecas de pyspark"
      ]
    },
    {
      "cell_type": "code",
      "execution_count": null,
      "metadata": {
        "id": "zixlDiIHgfIu"
      },
      "outputs": [],
      "source": [
        "from pyspark.sql.functions import *\n",
        "from pyspark.sql.types import *\n",
        "from pyspark.sql import SparkSession\n",
        "import pyspark\n",
        "import json\n",
        "from pyspark.sql.functions import explode \n",
        "from pyspark.sql import functions\n"
      ]
    },
    {
      "cell_type": "markdown",
      "metadata": {
        "id": "K7UbdFvMgfIu"
      },
      "source": [
        "<H2> Chamando o dataframe no blob </H2>"
      ]
    },
    {
      "cell_type": "code",
      "execution_count": null,
      "metadata": {
        "id": "Aqzylh2ggfIu"
      },
      "outputs": [],
      "source": [
        "def chama_dataframe (path, tipo_arquivo = 'csv', header = True, inferSchema = True ):\n",
        "##tipo arquivo = Json, CSV, Parquet etc\n",
        "## se precisar pode por o .option('sep', ';')\\\n",
        "    try:\n",
        "        df = spark.read\\\n",
        "            .format(tipo_arquivo)\\\n",
        "            .option('header', header)\\\n",
        "            .option('inferSchema', inferSchema)\\\n",
        "            .load(path)\n",
        "    except:\n",
        "        print(\"error\")\n",
        "        \n",
        "    else:\n",
        "        print(\"Sucesso, Vamos prosseguir\")\n"
      ]
    },
    {
      "cell_type": "markdown",
      "metadata": {
        "id": "_EHAQOYUgfIv"
      },
      "source": [
        "Tratamentos de Colunas"
      ]
    },
    {
      "cell_type": "code",
      "execution_count": null,
      "metadata": {
        "id": "uA3fL6NLgfIv"
      },
      "outputs": [],
      "source": [
        "#Criando uma função Lambda parar tratar o header da coluna, removendo o espaço vazio e colocando um underscore. \n",
        "Nova_Lista= list(map(lambda x: x.replace(\" \", \"_\"), df.columns))\n",
        "df = d.toDF(*Nova_Lista)\n",
        "#Abaixo todas as colunas com o nome maisculos\n",
        "df = df.toDF(*[c.upper() for c in df.columns])"
      ]
    },
    {
      "cell_type": "markdown",
      "metadata": {
        "id": "_uoYNU_bgfIv"
      },
      "source": [
        "FUNÇÕES PRA TRATAMENTO"
      ]
    },
    {
      "cell_type": "code",
      "execution_count": null,
      "metadata": {
        "id": "Yam0A5GzgfIv"
      },
      "outputs": [],
      "source": [
        "#Trocar virgula por ponto OBS: você pode trocar por outras coisas tbm.\n",
        "def convert_virgula(parametro):\n",
        "    return df.withColumn(parametro, regexp_replace(parametro, \",\", \".\"))\n",
        "\n",
        "\n",
        "#Formatar a data \n",
        "def formatardata(parametro):\n",
        "    return df.withColumn(parametro, to_date(parametro, 'dd/MM/yyyy'))\n",
        "\n",
        "#Converter valor vazio em não informado OBS: Ou algo da sua escolha.\n",
        "def convertevazio(df1, substitui_por='Não informado'):\n",
        "    for i in df1.columns:\n",
        "        df1 = df1.withColumn(i , when(col(i).isNull() | col(i).isin(''),substitui_por).otherwise(col(i)))\n",
        "    return df1\n",
        "\n",
        "#Converter valor nulo em não informado, é o mesmo do de cima...\n",
        "def converternulo(df1, substitui_por='Não informado'):\n",
        "    for i in df1.columns:\n",
        "        df1 = df1.withColumn(i , when(col(i) == \"\", substitui_por).otherwise(col(i)))\n",
        "    return df1\n",
        "\n",
        "#Converter Valor null!\n",
        "def converternulo2(df1, substitui_por='Não informado'):\n",
        "    for i in df1.columns:\n",
        "        df1 = df1.na.fill(substitui_por)\n",
        "    return df1\n",
        "\n",
        "\n",
        "#Funções de Count\n",
        "#count nulos\n",
        "def countnull(df):\n",
        "    df.select([count(when(isnan(c) | col(c).isNull(), c)).alias(c)\n",
        "               for c in df.columns]).display()\n",
        "\n",
        "#count não nulos  \n",
        "def countnotnull(df):\n",
        "    df.select([count(when(isnan(c) | col(c).isNotNull(), c)).alias(c)\n",
        "               for c in df.columns]).display()\n",
        "\n"
      ]
    },
    {
      "cell_type": "markdown",
      "metadata": {
        "id": "X3eFHJBAgfIw"
      },
      "source": [
        "<H3>Tipo de funções do proprio spark</H3>"
      ]
    },
    {
      "cell_type": "code",
      "execution_count": null,
      "metadata": {
        "id": "xRjLG5zQgfIw",
        "outputId": "8236bf15-ef91-4fa1-c023-c292bbfe81b7"
      },
      "outputs": [
        {
          "ename": "IndentationError",
          "evalue": "unexpected indent (385429889.py, line 3)",
          "output_type": "error",
          "traceback": [
            "\u001b[1;36m  Input \u001b[1;32mIn [2]\u001b[1;36m\u001b[0m\n\u001b[1;33m    df.withColumn('nomedacoluna', when(col('nomedacoluna').isin(unico), 'valorquemudarar').otherwise(col('nomedacoluna')))\u001b[0m\n\u001b[1;37m    ^\u001b[0m\n\u001b[1;31mIndentationError\u001b[0m\u001b[1;31m:\u001b[0m unexpected indent\n"
          ]
        }
      ],
      "source": [
        "#withColumn()\n",
        "\"Tratar valores internos da coluna\"\n",
        "#Eu prefiro utilizar listas, feito o unico que esta situado abaixo.\n",
        "df.withColumn('nomedacoluna', when(col('nomedacoluna').isin(unico), 'valorquemudarar').otherwise(col('nomedacoluna')))\n",
        "    \n",
        "#withColumnRenamed()\n",
        "\"Trata o nome das colunas\"\n",
        "df.withColumnRenamed(\"Antigo-nome\", 'Novo-nome')"
      ]
    },
    {
      "cell_type": "code",
      "execution_count": null,
      "metadata": {
        "id": "h_oC1oytgfIw"
      },
      "outputs": [],
      "source": []
    }
  ],
  "metadata": {
    "kernelspec": {
      "display_name": "Python 3.10.4 64-bit",
      "language": "python",
      "name": "python3"
    },
    "language_info": {
      "codemirror_mode": {
        "name": "ipython",
        "version": 3
      },
      "file_extension": ".py",
      "mimetype": "text/x-python",
      "name": "python",
      "nbconvert_exporter": "python",
      "pygments_lexer": "ipython3",
      "version": "3.10.4"
    },
    "orig_nbformat": 4,
    "vscode": {
      "interpreter": {
        "hash": "cabb79eba6a7bbc86f68b9d7ec45eb843010dd03cdb24ac98d3af13e82d22868"
      }
    },
    "colab": {
      "provenance": []
    }
  },
  "nbformat": 4,
  "nbformat_minor": 0
}